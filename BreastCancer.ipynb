{
  "nbformat": 4,
  "nbformat_minor": 0,
  "metadata": {
    "colab": {
      "name": "BreastCancer",
      "provenance": [],
      "collapsed_sections": [],
      "mount_file_id": "1J_aLzSU7Z8_RCAIpfay0s2FBXrm8bWDu",
      "authorship_tag": "ABX9TyPi0ciuCv+Dckwsqkw1uh38",
      "include_colab_link": true
    },
    "kernelspec": {
      "name": "python3",
      "display_name": "Python 3"
    },
    "language_info": {
      "name": "python"
    },
    "accelerator": "GPU"
  },
  "cells": [
    {
      "cell_type": "markdown",
      "metadata": {
        "id": "view-in-github",
        "colab_type": "text"
      },
      "source": [
        "<a href=\"https://colab.research.google.com/github/dzarulhaziq/FeedForward/blob/main/BreastCancer.ipynb\" target=\"_parent\"><img src=\"https://colab.research.google.com/assets/colab-badge.svg\" alt=\"Open In Colab\"/></a>"
      ]
    },
    {
      "cell_type": "code",
      "execution_count": null,
      "metadata": {
        "id": "QTnLkpu-iqE_"
      },
      "outputs": [],
      "source": [
        "#Import necessary packages\n",
        "import tensorflow as tf\n",
        "import numpy as np\n",
        "import pandas as pd\n",
        "from sklearn.model_selection import train_test_split\n",
        "from sklearn.preprocessing import StandardScaler\n",
        "import datetime\n",
        "import os"
      ]
    },
    {
      "cell_type": "code",
      "source": [
        "# Importing data\n",
        "file_path = r\"/content/drive/MyDrive/Colab Notebooks/Project/MiniProject1/Dataset/data.csv\"\n",
        "cancer_data = pd.read_csv(file_path)\n",
        "\n",
        "#Droping not useful data\n",
        "cancer_data = cancer_data.drop(['id',\"Unnamed: 32\"],axis=1)"
      ],
      "metadata": {
        "id": "11wFi1IbnFWm"
      },
      "execution_count": null,
      "outputs": []
    },
    {
      "cell_type": "code",
      "source": [
        "#Splitting the data into features and label\n",
        "cancer_features = cancer_data.copy()\n",
        "cancer_label = cancer_features.pop('diagnosis')"
      ],
      "metadata": {
        "id": "W19OMNEYnX3s"
      },
      "execution_count": null,
      "outputs": []
    },
    {
      "cell_type": "code",
      "source": [
        "#Check the data\n",
        "\n",
        "print(\"------------------Features-------------------------\")\n",
        "print(cancer_features.head())\n",
        "print(\"-----------------Label----------------------\")\n",
        "print(cancer_label.head())"
      ],
      "metadata": {
        "id": "1EiSMjx5nadn",
        "colab": {
          "base_uri": "https://localhost:8080/"
        },
        "outputId": "ee80199e-9d33-4ce0-d35a-70bdc6bdc940"
      },
      "execution_count": null,
      "outputs": [
        {
          "output_type": "stream",
          "name": "stdout",
          "text": [
            "------------------Features-------------------------\n",
            "   radius_mean  texture_mean  perimeter_mean  area_mean  smoothness_mean  \\\n",
            "0        17.99         10.38          122.80     1001.0          0.11840   \n",
            "1        20.57         17.77          132.90     1326.0          0.08474   \n",
            "2        19.69         21.25          130.00     1203.0          0.10960   \n",
            "3        11.42         20.38           77.58      386.1          0.14250   \n",
            "4        20.29         14.34          135.10     1297.0          0.10030   \n",
            "\n",
            "   compactness_mean  concavity_mean  concave points_mean  symmetry_mean  \\\n",
            "0           0.27760          0.3001              0.14710         0.2419   \n",
            "1           0.07864          0.0869              0.07017         0.1812   \n",
            "2           0.15990          0.1974              0.12790         0.2069   \n",
            "3           0.28390          0.2414              0.10520         0.2597   \n",
            "4           0.13280          0.1980              0.10430         0.1809   \n",
            "\n",
            "   fractal_dimension_mean  ...  radius_worst  texture_worst  perimeter_worst  \\\n",
            "0                 0.07871  ...         25.38          17.33           184.60   \n",
            "1                 0.05667  ...         24.99          23.41           158.80   \n",
            "2                 0.05999  ...         23.57          25.53           152.50   \n",
            "3                 0.09744  ...         14.91          26.50            98.87   \n",
            "4                 0.05883  ...         22.54          16.67           152.20   \n",
            "\n",
            "   area_worst  smoothness_worst  compactness_worst  concavity_worst  \\\n",
            "0      2019.0            0.1622             0.6656           0.7119   \n",
            "1      1956.0            0.1238             0.1866           0.2416   \n",
            "2      1709.0            0.1444             0.4245           0.4504   \n",
            "3       567.7            0.2098             0.8663           0.6869   \n",
            "4      1575.0            0.1374             0.2050           0.4000   \n",
            "\n",
            "   concave points_worst  symmetry_worst  fractal_dimension_worst  \n",
            "0                0.2654          0.4601                  0.11890  \n",
            "1                0.1860          0.2750                  0.08902  \n",
            "2                0.2430          0.3613                  0.08758  \n",
            "3                0.2575          0.6638                  0.17300  \n",
            "4                0.1625          0.2364                  0.07678  \n",
            "\n",
            "[5 rows x 30 columns]\n",
            "-----------------Label----------------------\n",
            "0    M\n",
            "1    M\n",
            "2    M\n",
            "3    M\n",
            "4    M\n",
            "Name: diagnosis, dtype: object\n"
          ]
        }
      ]
    },
    {
      "cell_type": "code",
      "source": [
        "#One hot encode label\n",
        "cancer_label_OH = pd.get_dummies(cancer_label)\n",
        "#Check the one-hot label\n",
        "print(\"--------------------One-hot Label-----------------\")\n",
        "print(cancer_label_OH.head())"
      ],
      "metadata": {
        "id": "_rtvSXWXndiv",
        "colab": {
          "base_uri": "https://localhost:8080/"
        },
        "outputId": "7ce22e53-c08a-470f-c41e-b6a2e6adc838"
      },
      "execution_count": null,
      "outputs": [
        {
          "output_type": "stream",
          "name": "stdout",
          "text": [
            "--------------------One-hot Label-----------------\n",
            "   B  M\n",
            "0  0  1\n",
            "1  0  1\n",
            "2  0  1\n",
            "3  0  1\n",
            "4  0  1\n"
          ]
        }
      ]
    },
    {
      "cell_type": "code",
      "source": [
        "#Split the features and labels into train-validation-test sets\n",
        "#Using 60:20:20 split\n",
        "SEED = 12345\n",
        "x_train, x_iter, y_train, y_iter = train_test_split(cancer_features,cancer_label_OH,test_size=0.4,random_state=SEED)\n",
        "x_val, x_test, y_val, y_test = train_test_split(x_iter,y_iter,test_size=0.5,random_state=SEED)"
      ],
      "metadata": {
        "id": "3lEkA0oOneo9"
      },
      "execution_count": null,
      "outputs": []
    },
    {
      "cell_type": "code",
      "source": [
        "#Data preparation is completed at this step\n",
        "#Create a feedforward neural network using TensorFlow Keras\n",
        "number_input = x_train.shape[-1]\n",
        "number_output = y_train.shape[-1]\n",
        "model = tf.keras.Sequential()\n",
        "model.add(tf.keras.layers.InputLayer(input_shape=number_input)) \n",
        "model.add(tf.keras.layers.Dense(64,activation='elu'))\n",
        "model.add(tf.keras.layers.Dense(32,activation='elu'))\n",
        "model.add(tf.keras.layers.Dropout(0.3))\n",
        "model.add(tf.keras.layers.Dense(number_output,activation=\"softmax\"))"
      ],
      "metadata": {
        "id": "3TIVYNfcp4vf"
      },
      "execution_count": null,
      "outputs": []
    },
    {
      "cell_type": "code",
      "source": [
        "#Compile the model\n",
        "model.compile(optimizer='adam',loss='categorical_crossentropy',metrics=['accuracy'])"
      ],
      "metadata": {
        "id": "UPSE7MLDqQna"
      },
      "execution_count": null,
      "outputs": []
    },
    {
      "cell_type": "code",
      "source": [
        "#Train and evaluate model\n",
        "#Define callback functions: EarlyStopping and Tensorboard\n",
        "base_log_path = r\"/content/drive/MyDrive/Colab Notebooks/Log\"\n",
        "log_path = os.path.join(base_log_path, datetime.datetime.now().strftime(\"%Y%m%d-%H%M%S\"))\n",
        "tb_callback = tf.keras.callbacks.TensorBoard(log_dir=log_path)\n",
        "EPOCHS = 100\n",
        "BATCH_SIZE=32\n",
        "history = model.fit(x_train,y_train,validation_data=(x_val,y_val),batch_size=BATCH_SIZE,epochs=EPOCHS)"
      ],
      "metadata": {
        "colab": {
          "base_uri": "https://localhost:8080/"
        },
        "id": "TrN3RzjeqTbP",
        "outputId": "f73e1343-ed4d-4f8a-e768-3cac8aa11241"
      },
      "execution_count": null,
      "outputs": [
        {
          "output_type": "stream",
          "name": "stdout",
          "text": [
            "Epoch 1/100\n",
            "11/11 [==============================] - 2s 60ms/step - loss: 29.7140 - accuracy: 0.4516 - val_loss: 0.9255 - val_accuracy: 0.7807\n",
            "Epoch 2/100\n",
            "11/11 [==============================] - 0s 11ms/step - loss: 15.4830 - accuracy: 0.5572 - val_loss: 0.8422 - val_accuracy: 0.8947\n",
            "Epoch 3/100\n",
            "11/11 [==============================] - 0s 17ms/step - loss: 8.1787 - accuracy: 0.6950 - val_loss: 0.5829 - val_accuracy: 0.8684\n",
            "Epoch 4/100\n",
            "11/11 [==============================] - 0s 25ms/step - loss: 2.8025 - accuracy: 0.8094 - val_loss: 0.6938 - val_accuracy: 0.8772\n",
            "Epoch 5/100\n",
            "11/11 [==============================] - 0s 27ms/step - loss: 1.6526 - accuracy: 0.8065 - val_loss: 0.4581 - val_accuracy: 0.9123\n",
            "Epoch 6/100\n",
            "11/11 [==============================] - 0s 27ms/step - loss: 1.0294 - accuracy: 0.8387 - val_loss: 0.3532 - val_accuracy: 0.9298\n",
            "Epoch 7/100\n",
            "11/11 [==============================] - 0s 16ms/step - loss: 0.6963 - accuracy: 0.8475 - val_loss: 0.3501 - val_accuracy: 0.8860\n",
            "Epoch 8/100\n",
            "11/11 [==============================] - 0s 18ms/step - loss: 0.5593 - accuracy: 0.8211 - val_loss: 0.2287 - val_accuracy: 0.9386\n",
            "Epoch 9/100\n",
            "11/11 [==============================] - 0s 22ms/step - loss: 0.3243 - accuracy: 0.8622 - val_loss: 0.3054 - val_accuracy: 0.8860\n",
            "Epoch 10/100\n",
            "11/11 [==============================] - 0s 12ms/step - loss: 0.3726 - accuracy: 0.8798 - val_loss: 0.2719 - val_accuracy: 0.8860\n",
            "Epoch 11/100\n",
            "11/11 [==============================] - 0s 12ms/step - loss: 0.2861 - accuracy: 0.9003 - val_loss: 0.2279 - val_accuracy: 0.9211\n",
            "Epoch 12/100\n",
            "11/11 [==============================] - 0s 17ms/step - loss: 0.3520 - accuracy: 0.8739 - val_loss: 0.2452 - val_accuracy: 0.9035\n",
            "Epoch 13/100\n",
            "11/11 [==============================] - 0s 20ms/step - loss: 0.3175 - accuracy: 0.8886 - val_loss: 0.2724 - val_accuracy: 0.9123\n",
            "Epoch 14/100\n",
            "11/11 [==============================] - 0s 21ms/step - loss: 0.2797 - accuracy: 0.9003 - val_loss: 0.2371 - val_accuracy: 0.9386\n",
            "Epoch 15/100\n",
            "11/11 [==============================] - 0s 20ms/step - loss: 0.2589 - accuracy: 0.9091 - val_loss: 0.2335 - val_accuracy: 0.9211\n",
            "Epoch 16/100\n",
            "11/11 [==============================] - 0s 17ms/step - loss: 0.3277 - accuracy: 0.8944 - val_loss: 0.3607 - val_accuracy: 0.8596\n",
            "Epoch 17/100\n",
            "11/11 [==============================] - 0s 17ms/step - loss: 0.3374 - accuracy: 0.8739 - val_loss: 0.2591 - val_accuracy: 0.9123\n",
            "Epoch 18/100\n",
            "11/11 [==============================] - 0s 14ms/step - loss: 0.2583 - accuracy: 0.8886 - val_loss: 0.3147 - val_accuracy: 0.8684\n",
            "Epoch 19/100\n",
            "11/11 [==============================] - 0s 21ms/step - loss: 0.3162 - accuracy: 0.8974 - val_loss: 0.2490 - val_accuracy: 0.9386\n",
            "Epoch 20/100\n",
            "11/11 [==============================] - 0s 14ms/step - loss: 0.2827 - accuracy: 0.8827 - val_loss: 0.3195 - val_accuracy: 0.8772\n",
            "Epoch 21/100\n",
            "11/11 [==============================] - 0s 12ms/step - loss: 0.2912 - accuracy: 0.8798 - val_loss: 0.2388 - val_accuracy: 0.9386\n",
            "Epoch 22/100\n",
            "11/11 [==============================] - 0s 12ms/step - loss: 0.2725 - accuracy: 0.8768 - val_loss: 0.3050 - val_accuracy: 0.8860\n",
            "Epoch 23/100\n",
            "11/11 [==============================] - 0s 16ms/step - loss: 0.3134 - accuracy: 0.8798 - val_loss: 0.2356 - val_accuracy: 0.9386\n",
            "Epoch 24/100\n",
            "11/11 [==============================] - 0s 14ms/step - loss: 0.2766 - accuracy: 0.8827 - val_loss: 0.2307 - val_accuracy: 0.9386\n",
            "Epoch 25/100\n",
            "11/11 [==============================] - 0s 20ms/step - loss: 0.2547 - accuracy: 0.9062 - val_loss: 0.2391 - val_accuracy: 0.9123\n",
            "Epoch 26/100\n",
            "11/11 [==============================] - 0s 21ms/step - loss: 0.2874 - accuracy: 0.9032 - val_loss: 0.3641 - val_accuracy: 0.8596\n",
            "Epoch 27/100\n",
            "11/11 [==============================] - 0s 13ms/step - loss: 0.2406 - accuracy: 0.9150 - val_loss: 0.2355 - val_accuracy: 0.9123\n",
            "Epoch 28/100\n",
            "11/11 [==============================] - 0s 11ms/step - loss: 0.3614 - accuracy: 0.8944 - val_loss: 0.2330 - val_accuracy: 0.9386\n",
            "Epoch 29/100\n",
            "11/11 [==============================] - 0s 12ms/step - loss: 0.2828 - accuracy: 0.9032 - val_loss: 0.2507 - val_accuracy: 0.9123\n",
            "Epoch 30/100\n",
            "11/11 [==============================] - 0s 13ms/step - loss: 0.2944 - accuracy: 0.8915 - val_loss: 0.2368 - val_accuracy: 0.9386\n",
            "Epoch 31/100\n",
            "11/11 [==============================] - 0s 29ms/step - loss: 0.3326 - accuracy: 0.8915 - val_loss: 0.2677 - val_accuracy: 0.9123\n",
            "Epoch 32/100\n",
            "11/11 [==============================] - 0s 12ms/step - loss: 0.2871 - accuracy: 0.8886 - val_loss: 0.2658 - val_accuracy: 0.9035\n",
            "Epoch 33/100\n",
            "11/11 [==============================] - 0s 13ms/step - loss: 0.2553 - accuracy: 0.8944 - val_loss: 0.2611 - val_accuracy: 0.9211\n",
            "Epoch 34/100\n",
            "11/11 [==============================] - 0s 12ms/step - loss: 0.2534 - accuracy: 0.9120 - val_loss: 0.2366 - val_accuracy: 0.9474\n",
            "Epoch 35/100\n",
            "11/11 [==============================] - 0s 16ms/step - loss: 0.2430 - accuracy: 0.9208 - val_loss: 0.2528 - val_accuracy: 0.9211\n",
            "Epoch 36/100\n",
            "11/11 [==============================] - 0s 24ms/step - loss: 0.2639 - accuracy: 0.9032 - val_loss: 0.2364 - val_accuracy: 0.9211\n",
            "Epoch 37/100\n",
            "11/11 [==============================] - 0s 13ms/step - loss: 0.2825 - accuracy: 0.9150 - val_loss: 0.2237 - val_accuracy: 0.9386\n",
            "Epoch 38/100\n",
            "11/11 [==============================] - 0s 12ms/step - loss: 0.2796 - accuracy: 0.8886 - val_loss: 0.2235 - val_accuracy: 0.9211\n",
            "Epoch 39/100\n",
            "11/11 [==============================] - 0s 18ms/step - loss: 0.2799 - accuracy: 0.8856 - val_loss: 0.2992 - val_accuracy: 0.8684\n",
            "Epoch 40/100\n",
            "11/11 [==============================] - 0s 19ms/step - loss: 0.2717 - accuracy: 0.9003 - val_loss: 0.2204 - val_accuracy: 0.9298\n",
            "Epoch 41/100\n",
            "11/11 [==============================] - 0s 16ms/step - loss: 0.2720 - accuracy: 0.9120 - val_loss: 0.2125 - val_accuracy: 0.9211\n",
            "Epoch 42/100\n",
            "11/11 [==============================] - 0s 15ms/step - loss: 0.2749 - accuracy: 0.8856 - val_loss: 0.2067 - val_accuracy: 0.9474\n",
            "Epoch 43/100\n",
            "11/11 [==============================] - 0s 12ms/step - loss: 0.3036 - accuracy: 0.8886 - val_loss: 0.2450 - val_accuracy: 0.8860\n",
            "Epoch 44/100\n",
            "11/11 [==============================] - 0s 13ms/step - loss: 0.2859 - accuracy: 0.8680 - val_loss: 0.2054 - val_accuracy: 0.9386\n",
            "Epoch 45/100\n",
            "11/11 [==============================] - 0s 14ms/step - loss: 0.2186 - accuracy: 0.9091 - val_loss: 0.2199 - val_accuracy: 0.9123\n",
            "Epoch 46/100\n",
            "11/11 [==============================] - 0s 16ms/step - loss: 0.2846 - accuracy: 0.8886 - val_loss: 0.2093 - val_accuracy: 0.9386\n",
            "Epoch 47/100\n",
            "11/11 [==============================] - 0s 19ms/step - loss: 0.3090 - accuracy: 0.8710 - val_loss: 0.2607 - val_accuracy: 0.8860\n",
            "Epoch 48/100\n",
            "11/11 [==============================] - 0s 20ms/step - loss: 0.2965 - accuracy: 0.8680 - val_loss: 0.1885 - val_accuracy: 0.9474\n",
            "Epoch 49/100\n",
            "11/11 [==============================] - 0s 15ms/step - loss: 0.2618 - accuracy: 0.9062 - val_loss: 0.2829 - val_accuracy: 0.8684\n",
            "Epoch 50/100\n",
            "11/11 [==============================] - 0s 15ms/step - loss: 0.2717 - accuracy: 0.8915 - val_loss: 0.1978 - val_accuracy: 0.9386\n",
            "Epoch 51/100\n",
            "11/11 [==============================] - 0s 15ms/step - loss: 0.2522 - accuracy: 0.9062 - val_loss: 0.2111 - val_accuracy: 0.9123\n",
            "Epoch 52/100\n",
            "11/11 [==============================] - 0s 24ms/step - loss: 0.2341 - accuracy: 0.9150 - val_loss: 0.1908 - val_accuracy: 0.9474\n",
            "Epoch 53/100\n",
            "11/11 [==============================] - 0s 26ms/step - loss: 0.2509 - accuracy: 0.8827 - val_loss: 0.2043 - val_accuracy: 0.9123\n",
            "Epoch 54/100\n",
            "11/11 [==============================] - 0s 21ms/step - loss: 0.2539 - accuracy: 0.9120 - val_loss: 0.1942 - val_accuracy: 0.9298\n",
            "Epoch 55/100\n",
            "11/11 [==============================] - 0s 16ms/step - loss: 0.2515 - accuracy: 0.9032 - val_loss: 0.2566 - val_accuracy: 0.8772\n",
            "Epoch 56/100\n",
            "11/11 [==============================] - 0s 27ms/step - loss: 0.2418 - accuracy: 0.9032 - val_loss: 0.1988 - val_accuracy: 0.9211\n",
            "Epoch 57/100\n",
            "11/11 [==============================] - 0s 17ms/step - loss: 0.2222 - accuracy: 0.9091 - val_loss: 0.1950 - val_accuracy: 0.9386\n",
            "Epoch 58/100\n",
            "11/11 [==============================] - 0s 15ms/step - loss: 0.2434 - accuracy: 0.8974 - val_loss: 0.2054 - val_accuracy: 0.9035\n",
            "Epoch 59/100\n",
            "11/11 [==============================] - 0s 12ms/step - loss: 0.2338 - accuracy: 0.9091 - val_loss: 0.1894 - val_accuracy: 0.9211\n",
            "Epoch 60/100\n",
            "11/11 [==============================] - 0s 15ms/step - loss: 0.2453 - accuracy: 0.9208 - val_loss: 0.2157 - val_accuracy: 0.9035\n",
            "Epoch 61/100\n",
            "11/11 [==============================] - 0s 17ms/step - loss: 0.2486 - accuracy: 0.8886 - val_loss: 0.2129 - val_accuracy: 0.9035\n",
            "Epoch 62/100\n",
            "11/11 [==============================] - 0s 16ms/step - loss: 0.2323 - accuracy: 0.9120 - val_loss: 0.2166 - val_accuracy: 0.9123\n",
            "Epoch 63/100\n",
            "11/11 [==============================] - 0s 17ms/step - loss: 0.2516 - accuracy: 0.9003 - val_loss: 0.1971 - val_accuracy: 0.9211\n",
            "Epoch 64/100\n",
            "11/11 [==============================] - 0s 12ms/step - loss: 0.1924 - accuracy: 0.9208 - val_loss: 0.1914 - val_accuracy: 0.9123\n",
            "Epoch 65/100\n",
            "11/11 [==============================] - 0s 14ms/step - loss: 0.2167 - accuracy: 0.9267 - val_loss: 0.2034 - val_accuracy: 0.9123\n",
            "Epoch 66/100\n",
            "11/11 [==============================] - 0s 16ms/step - loss: 0.2440 - accuracy: 0.8886 - val_loss: 0.1940 - val_accuracy: 0.9123\n",
            "Epoch 67/100\n",
            "11/11 [==============================] - 0s 20ms/step - loss: 0.2529 - accuracy: 0.9003 - val_loss: 0.1875 - val_accuracy: 0.9474\n",
            "Epoch 68/100\n",
            "11/11 [==============================] - 0s 18ms/step - loss: 0.2444 - accuracy: 0.8974 - val_loss: 0.2151 - val_accuracy: 0.9123\n",
            "Epoch 69/100\n",
            "11/11 [==============================] - 0s 21ms/step - loss: 0.2451 - accuracy: 0.9091 - val_loss: 0.1801 - val_accuracy: 0.9211\n",
            "Epoch 70/100\n",
            "11/11 [==============================] - 0s 14ms/step - loss: 0.2650 - accuracy: 0.8856 - val_loss: 0.2014 - val_accuracy: 0.9211\n",
            "Epoch 71/100\n",
            "11/11 [==============================] - 0s 16ms/step - loss: 0.2415 - accuracy: 0.9062 - val_loss: 0.1710 - val_accuracy: 0.9211\n",
            "Epoch 72/100\n",
            "11/11 [==============================] - 0s 16ms/step - loss: 0.2394 - accuracy: 0.9091 - val_loss: 0.2405 - val_accuracy: 0.8772\n",
            "Epoch 73/100\n",
            "11/11 [==============================] - 0s 17ms/step - loss: 0.2638 - accuracy: 0.9208 - val_loss: 0.2320 - val_accuracy: 0.8772\n",
            "Epoch 74/100\n",
            "11/11 [==============================] - 0s 16ms/step - loss: 0.2463 - accuracy: 0.9032 - val_loss: 0.1965 - val_accuracy: 0.9123\n",
            "Epoch 75/100\n",
            "11/11 [==============================] - 0s 12ms/step - loss: 0.2661 - accuracy: 0.8827 - val_loss: 0.1756 - val_accuracy: 0.9211\n",
            "Epoch 76/100\n",
            "11/11 [==============================] - 0s 14ms/step - loss: 0.2088 - accuracy: 0.9238 - val_loss: 0.1954 - val_accuracy: 0.9123\n",
            "Epoch 77/100\n",
            "11/11 [==============================] - 0s 14ms/step - loss: 0.2316 - accuracy: 0.9208 - val_loss: 0.1784 - val_accuracy: 0.9298\n",
            "Epoch 78/100\n",
            "11/11 [==============================] - 0s 11ms/step - loss: 0.2238 - accuracy: 0.9238 - val_loss: 0.3669 - val_accuracy: 0.8684\n",
            "Epoch 79/100\n",
            "11/11 [==============================] - 0s 14ms/step - loss: 0.2297 - accuracy: 0.9091 - val_loss: 0.1671 - val_accuracy: 0.9211\n",
            "Epoch 80/100\n",
            "11/11 [==============================] - 0s 17ms/step - loss: 0.2516 - accuracy: 0.9062 - val_loss: 0.2215 - val_accuracy: 0.8860\n",
            "Epoch 81/100\n",
            "11/11 [==============================] - 0s 22ms/step - loss: 0.2815 - accuracy: 0.8827 - val_loss: 0.1798 - val_accuracy: 0.9386\n",
            "Epoch 82/100\n",
            "11/11 [==============================] - 0s 16ms/step - loss: 0.2643 - accuracy: 0.8944 - val_loss: 0.1904 - val_accuracy: 0.9123\n",
            "Epoch 83/100\n",
            "11/11 [==============================] - 0s 18ms/step - loss: 0.2308 - accuracy: 0.9062 - val_loss: 0.2605 - val_accuracy: 0.8860\n",
            "Epoch 84/100\n",
            "11/11 [==============================] - 0s 17ms/step - loss: 0.2328 - accuracy: 0.9150 - val_loss: 0.1683 - val_accuracy: 0.9211\n",
            "Epoch 85/100\n",
            "11/11 [==============================] - 0s 15ms/step - loss: 0.2256 - accuracy: 0.9208 - val_loss: 0.2363 - val_accuracy: 0.8860\n",
            "Epoch 86/100\n",
            "11/11 [==============================] - 0s 15ms/step - loss: 0.2193 - accuracy: 0.9091 - val_loss: 0.1773 - val_accuracy: 0.9211\n",
            "Epoch 87/100\n",
            "11/11 [==============================] - 0s 12ms/step - loss: 0.2215 - accuracy: 0.9120 - val_loss: 0.1660 - val_accuracy: 0.9386\n",
            "Epoch 88/100\n",
            "11/11 [==============================] - 0s 18ms/step - loss: 0.2289 - accuracy: 0.9120 - val_loss: 0.2503 - val_accuracy: 0.8860\n",
            "Epoch 89/100\n",
            "11/11 [==============================] - 0s 20ms/step - loss: 0.2520 - accuracy: 0.9062 - val_loss: 0.1998 - val_accuracy: 0.9123\n",
            "Epoch 90/100\n",
            "11/11 [==============================] - 0s 13ms/step - loss: 0.1968 - accuracy: 0.9208 - val_loss: 0.1667 - val_accuracy: 0.9386\n",
            "Epoch 91/100\n",
            "11/11 [==============================] - 0s 14ms/step - loss: 0.2287 - accuracy: 0.9091 - val_loss: 0.1996 - val_accuracy: 0.9123\n",
            "Epoch 92/100\n",
            "11/11 [==============================] - 0s 14ms/step - loss: 0.2117 - accuracy: 0.9062 - val_loss: 0.1686 - val_accuracy: 0.9474\n",
            "Epoch 93/100\n",
            "11/11 [==============================] - 0s 16ms/step - loss: 0.2472 - accuracy: 0.9062 - val_loss: 0.1909 - val_accuracy: 0.9035\n",
            "Epoch 94/100\n",
            "11/11 [==============================] - 0s 11ms/step - loss: 0.2637 - accuracy: 0.8974 - val_loss: 0.1822 - val_accuracy: 0.9211\n",
            "Epoch 95/100\n",
            "11/11 [==============================] - 0s 11ms/step - loss: 0.2580 - accuracy: 0.8768 - val_loss: 0.1689 - val_accuracy: 0.9474\n",
            "Epoch 96/100\n",
            "11/11 [==============================] - 0s 13ms/step - loss: 0.2712 - accuracy: 0.8798 - val_loss: 0.2175 - val_accuracy: 0.8947\n",
            "Epoch 97/100\n",
            "11/11 [==============================] - 0s 16ms/step - loss: 0.2160 - accuracy: 0.9238 - val_loss: 0.1752 - val_accuracy: 0.9386\n",
            "Epoch 98/100\n",
            "11/11 [==============================] - 0s 12ms/step - loss: 0.1916 - accuracy: 0.9238 - val_loss: 0.1886 - val_accuracy: 0.9211\n",
            "Epoch 99/100\n",
            "11/11 [==============================] - 0s 13ms/step - loss: 0.2466 - accuracy: 0.8886 - val_loss: 0.3399 - val_accuracy: 0.8596\n",
            "Epoch 100/100\n",
            "11/11 [==============================] - 0s 13ms/step - loss: 0.2474 - accuracy: 0.9032 - val_loss: 0.1688 - val_accuracy: 0.9474\n"
          ]
        }
      ]
    },
    {
      "cell_type": "code",
      "source": [
        "#Evaluate with test data for wild testing\n",
        "test_result = model.evaluate(x_test,y_test,batch_size=BATCH_SIZE)\n",
        "print(f\"Test loss = {test_result[0]}\")\n",
        "print(f\"Test accuracy = {test_result[1]}\")"
      ],
      "metadata": {
        "id": "zPGaoeApqv41",
        "colab": {
          "base_uri": "https://localhost:8080/"
        },
        "outputId": "f7731388-9db4-4225-ed07-f7c5be29a6b0"
      },
      "execution_count": null,
      "outputs": [
        {
          "output_type": "stream",
          "name": "stdout",
          "text": [
            "4/4 [==============================] - 0s 6ms/step - loss: 0.2104 - accuracy: 0.8947\n",
            "Test loss = 0.21042758226394653\n",
            "Test accuracy = 0.8947368264198303\n"
          ]
        }
      ]
    },
    {
      "cell_type": "code",
      "source": [
        "import matplotlib.pyplot as plt\n",
        "plt.figure(figsize=(12,10))\n",
        "plt.subplot(2,2,1)\n",
        "plt.plot(history.history['accuracy'])\n",
        "plt.plot(history.history['val_accuracy'])\n",
        "plt.ylim(0, 1)\n",
        "plt.title('model accuracy ')\n",
        "plt.ylabel('accuracy')\n",
        "plt.xlabel('epoch')\n",
        "plt.legend(['train', 'valid'], loc='lower right')\n",
        "plt.subplot(2,2,2)\n",
        "plt.plot(history.history['loss'])\n",
        "plt.plot(history.history['val_loss'])\n",
        "plt.title('model loss ')\n",
        "plt.ylabel('loss')\n",
        "plt.xlabel('epoch')\n",
        "plt.legend(['train', 'valid'], loc='upper right')\n",
        "plt.ylim([0,2])"
      ],
      "metadata": {
        "colab": {
          "base_uri": "https://localhost:8080/",
          "height": 342
        },
        "id": "J4w2uu17qRBq",
        "outputId": "220613ce-273a-4158-8287-a8c9ad5c9d2e"
      },
      "execution_count": null,
      "outputs": [
        {
          "output_type": "execute_result",
          "data": {
            "text/plain": [
              "(0.0, 2.0)"
            ]
          },
          "metadata": {},
          "execution_count": 19
        },
        {
          "output_type": "display_data",
          "data": {
            "text/plain": [
              "<Figure size 864x720 with 2 Axes>"
            ],
            "image/png": "[encoded data removed]"
          },
          "metadata": {
            "needs_background": "light"
          }
        }
      ]
    }
  ]
}